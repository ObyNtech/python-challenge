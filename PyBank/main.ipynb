{
 "cells": [
  {
   "cell_type": "code",
   "execution_count": null,
   "id": "96acce4f-f2c2-4edb-a434-3611efe7e86e",
   "metadata": {},
   "outputs": [],
   "source": [
    "import os # for file path\n",
    "import csv # for reading csv file\n",
    "\n",
    "current_dir = os.getcwd() #get current working dir\n",
    "print(current_dir)\n",
    "path_budget_data = os.path.join (current_dir, \"Resources\", \"budget_data\") # get csv file path\n",
    "print(path_budget_data)"
   ]
  },
  {
   "cell_type": "code",
   "execution_count": null,
   "id": "4f6fad24-2c63-4164-ac85-515ffcce01fb",
   "metadata": {},
   "outputs": [],
   "source": [
    "def read_csv_file(Module_2_Challenge\\PyBank\\Resources\\budget_data):\n",
    "    data = []\n",
    "    with open(Module_2_Challenge\\PyBank\\Resources\\budget_data, 'r') as file:\n",
    "        reader = csv.DicReader(file)\n",
    "        for row in reader:\n",
    "            data.append(dict(row))\n",
    "    return data"
   ]
  },
  {
   "cell_type": "code",
   "execution_count": null,
   "id": "d6b5d02d-be69-42d0-8db4-a3b6fd56a385",
   "metadata": {},
   "outputs": [],
   "source": [
    "import pandas as pd\n",
    "import numpy as np\n",
    "from pathlib import Path"
   ]
  },
  {
   "cell_type": "code",
   "execution_count": 33,
   "id": "ca046f2b-cffb-4126-8cca-4eeaff2089de",
   "metadata": {},
   "outputs": [
    {
     "data": {
      "text/html": [
       "<div>\n",
       "<style scoped>\n",
       "    .dataframe tbody tr th:only-of-type {\n",
       "        vertical-align: middle;\n",
       "    }\n",
       "\n",
       "    .dataframe tbody tr th {\n",
       "        vertical-align: top;\n",
       "    }\n",
       "\n",
       "    .dataframe thead th {\n",
       "        text-align: right;\n",
       "    }\n",
       "</style>\n",
       "<table border=\"1\" class=\"dataframe\">\n",
       "  <thead>\n",
       "    <tr style=\"text-align: right;\">\n",
       "      <th></th>\n",
       "      <th>Date</th>\n",
       "      <th>Profit/Losses</th>\n",
       "    </tr>\n",
       "  </thead>\n",
       "  <tbody>\n",
       "    <tr>\n",
       "      <th>0</th>\n",
       "      <td>Jan-2010</td>\n",
       "      <td>867884</td>\n",
       "    </tr>\n",
       "    <tr>\n",
       "      <th>1</th>\n",
       "      <td>Feb-2010</td>\n",
       "      <td>984655</td>\n",
       "    </tr>\n",
       "    <tr>\n",
       "      <th>2</th>\n",
       "      <td>Mar-2010</td>\n",
       "      <td>322013</td>\n",
       "    </tr>\n",
       "    <tr>\n",
       "      <th>3</th>\n",
       "      <td>Apr-2010</td>\n",
       "      <td>-69417</td>\n",
       "    </tr>\n",
       "    <tr>\n",
       "      <th>4</th>\n",
       "      <td>May-2010</td>\n",
       "      <td>310503</td>\n",
       "    </tr>\n",
       "    <tr>\n",
       "      <th>...</th>\n",
       "      <td>...</td>\n",
       "      <td>...</td>\n",
       "    </tr>\n",
       "    <tr>\n",
       "      <th>81</th>\n",
       "      <td>Oct-2016</td>\n",
       "      <td>102685</td>\n",
       "    </tr>\n",
       "    <tr>\n",
       "      <th>82</th>\n",
       "      <td>Nov-2016</td>\n",
       "      <td>795914</td>\n",
       "    </tr>\n",
       "    <tr>\n",
       "      <th>83</th>\n",
       "      <td>Dec-2016</td>\n",
       "      <td>60988</td>\n",
       "    </tr>\n",
       "    <tr>\n",
       "      <th>84</th>\n",
       "      <td>Jan-2017</td>\n",
       "      <td>138230</td>\n",
       "    </tr>\n",
       "    <tr>\n",
       "      <th>85</th>\n",
       "      <td>Feb-2017</td>\n",
       "      <td>671099</td>\n",
       "    </tr>\n",
       "  </tbody>\n",
       "</table>\n",
       "<p>86 rows × 2 columns</p>\n",
       "</div>"
      ],
      "text/plain": [
       "        Date  Profit/Losses\n",
       "0   Jan-2010         867884\n",
       "1   Feb-2010         984655\n",
       "2   Mar-2010         322013\n",
       "3   Apr-2010         -69417\n",
       "4   May-2010         310503\n",
       "..       ...            ...\n",
       "81  Oct-2016         102685\n",
       "82  Nov-2016         795914\n",
       "83  Dec-2016          60988\n",
       "84  Jan-2017         138230\n",
       "85  Feb-2017         671099\n",
       "\n",
       "[86 rows x 2 columns]"
      ]
     },
     "execution_count": 33,
     "metadata": {},
     "output_type": "execute_result"
    }
   ],
   "source": [
    "budget_data_csv = Path(\"Resources/budget_data.csv\")\n",
    "budget_data_df = pd.read_csv(budget_data_csv)\n",
    "budget_data_df"
   ]
  },
  {
   "cell_type": "code",
   "execution_count": 35,
   "id": "aedac934-9986-40f6-8ec0-b1a18bb957c5",
   "metadata": {},
   "outputs": [
    {
     "name": "stdout",
     "output_type": "stream",
     "text": [
      "Date             86\n",
      "Profit/Losses    86\n",
      "dtype: int64\n"
     ]
    }
   ],
   "source": [
    "# The total number of months included in the dataset\n",
    "Month_Count_budget_data_df =budget_data_df.count(axis='rows')\n",
    "print(Month_Count_budget_data_df)"
   ]
  },
  {
   "cell_type": "code",
   "execution_count": null,
   "id": "a611c6b0-a00a-4e4a-b048-8a3acb6ab974",
   "metadata": {},
   "outputs": [],
   "source": [
    "# The net total amount of Profit/Losses over the entire period\n",
    "Net_Total_df = budget_data_df['Profit/Losses'].sum()\n",
    "print(Net_Total_df)"
   ]
  },
  {
   "cell_type": "code",
   "execution_count": 37,
   "id": "6bdb8190-e1f5-48d3-9c09-946839506afb",
   "metadata": {},
   "outputs": [
    {
     "name": "stdout",
     "output_type": "stream",
     "text": [
      "0          NaN\n",
      "1     0.134547\n",
      "2    -0.672969\n",
      "3    -1.215572\n",
      "4    -5.473011\n",
      "        ...   \n",
      "81   -0.866374\n",
      "82    6.751025\n",
      "83   -0.923374\n",
      "84    1.266511\n",
      "85    3.854945\n",
      "Name: Profit/Losses, Length: 86, dtype: float64\n"
     ]
    }
   ],
   "source": [
    "change_budget_df = budget_data_df['Profit/Losses'].pct_change()\n",
    "print(change_budget_df)"
   ]
  },
  {
   "cell_type": "code",
   "execution_count": 40,
   "id": "098502c7-0283-4390-95c1-0da06cc1ea2d",
   "metadata": {},
   "outputs": [
    {
     "name": "stdout",
     "output_type": "stream",
     "text": [
      "[116771, -662642, -391430, 379920, 212354, 510239, -428211, -821271, 693918, 416278, -974163, 860159, -1115009, 1033048, 95318, -308093, 99052, -521393, 605450, 231727, -65187, -702716, 177975, -1065544, 1926159, -917805, 898730, -334262, -246499, -64055, -1529236, 1497596, 304914, -635801, 398319, -183161, -37864, -253689, 403655, 94168, 306877, -83000, 210462, -2196167, 1465222, -956983, 1838447, -468003, -64602, 206242, -242155, -449079, 315198, 241099, 111540, 365942, -219310, -368665, 409837, 151210, -110244, -341938, -1212159, 683246, -70825, 335594, 417334, -272194, -236462, 657432, -211262, -128237, -1750387, 925441, 932089, -311434, 267252, -1876758, 1733696, 198551, -665765, 693229, -734926, 77242, 532869]\n"
     ]
    }
   ],
   "source": [
    "# The average of the changes in Profit/Losses over the entire period\n",
    "def changes_Profit_Losses(budget):\n",
    "    change = []\n",
    "    for i in range(1, len(budget)):\n",
    "        current_number = budget[i]\n",
    "        previous_number = budget[i-1]\n",
    "        net_change = current_number - previous_number\n",
    "        change.append(net_change)\n",
    "    return change\n",
    "\n",
    "\n",
    "print(changes_Profit_Losses(budget_data_df[\"Profit/Losses\"]))\n"
   ]
  },
  {
   "cell_type": "code",
   "execution_count": null,
   "id": "51b6d36c-2baa-4e8f-b432-6c45556ad4b7",
   "metadata": {},
   "outputs": [],
   "source": [
    "# The greatest increase in profits (date and amount) over the entire period"
   ]
  },
  {
   "cell_type": "code",
   "execution_count": null,
   "id": "631fa463-1650-47f4-9a1c-f9ae94af801a",
   "metadata": {},
   "outputs": [],
   "source": [
    "# The greatest decrease in losses (date and amount) over the entire period"
   ]
  }
 ],
 "metadata": {
  "kernelspec": {
   "display_name": "Python 3 (ipykernel)",
   "language": "python",
   "name": "python3"
  },
  "language_info": {
   "codemirror_mode": {
    "name": "ipython",
    "version": 3
   },
   "file_extension": ".py",
   "mimetype": "text/x-python",
   "name": "python",
   "nbconvert_exporter": "python",
   "pygments_lexer": "ipython3",
   "version": "3.10.9"
  }
 },
 "nbformat": 4,
 "nbformat_minor": 5
}
