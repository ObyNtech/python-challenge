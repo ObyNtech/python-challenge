{
 "cells": [
  {
   "cell_type": "code",
   "execution_count": 13,
   "id": "96acce4f-f2c2-4edb-a434-3611efe7e86e",
   "metadata": {},
   "outputs": [
    {
     "name": "stdout",
     "output_type": "stream",
     "text": [
      "C:\\Users\\Obiageri\\Documents\\University of Toronto\\Assignment\\Module_2_Challenge\\python-challenge\\PyBank\n",
      "C:\\Users\\Obiageri\\Documents\\University of Toronto\\Assignment\\Module_2_Challenge\\python-challenge\\PyBank\\Resources\\budget_data.csv\n",
      "[{'Date': 'Jan-2010', 'Profit/Losses': '867884'}, {'Date': 'Feb-2010', 'Profit/Losses': '984655'}, {'Date': 'Mar-2010', 'Profit/Losses': '322013'}, {'Date': 'Apr-2010', 'Profit/Losses': '-69417'}, {'Date': 'May-2010', 'Profit/Losses': '310503'}, {'Date': 'Jun-2010', 'Profit/Losses': '522857'}, {'Date': 'Jul-2010', 'Profit/Losses': '1033096'}, {'Date': 'Aug-2010', 'Profit/Losses': '604885'}, {'Date': 'Sep-2010', 'Profit/Losses': '-216386'}, {'Date': 'Oct-2010', 'Profit/Losses': '477532'}, {'Date': 'Nov-2010', 'Profit/Losses': '893810'}, {'Date': 'Dec-2010', 'Profit/Losses': '-80353'}, {'Date': 'Jan-2011', 'Profit/Losses': '779806'}, {'Date': 'Feb-2011', 'Profit/Losses': '-335203'}, {'Date': 'Mar-2011', 'Profit/Losses': '697845'}, {'Date': 'Apr-2011', 'Profit/Losses': '793163'}, {'Date': 'May-2011', 'Profit/Losses': '485070'}, {'Date': 'Jun-2011', 'Profit/Losses': '584122'}, {'Date': 'Jul-2011', 'Profit/Losses': '62729'}, {'Date': 'Aug-2011', 'Profit/Losses': '668179'}, {'Date': 'Sep-2011', 'Profit/Losses': '899906'}, {'Date': 'Oct-2011', 'Profit/Losses': '834719'}, {'Date': 'Nov-2011', 'Profit/Losses': '132003'}, {'Date': 'Dec-2011', 'Profit/Losses': '309978'}, {'Date': 'Jan-2012', 'Profit/Losses': '-755566'}, {'Date': 'Feb-2012', 'Profit/Losses': '1170593'}, {'Date': 'Mar-2012', 'Profit/Losses': '252788'}, {'Date': 'Apr-2012', 'Profit/Losses': '1151518'}, {'Date': 'May-2012', 'Profit/Losses': '817256'}, {'Date': 'Jun-2012', 'Profit/Losses': '570757'}, {'Date': 'Jul-2012', 'Profit/Losses': '506702'}, {'Date': 'Aug-2012', 'Profit/Losses': '-1022534'}, {'Date': 'Sep-2012', 'Profit/Losses': '475062'}, {'Date': 'Oct-2012', 'Profit/Losses': '779976'}, {'Date': 'Nov-2012', 'Profit/Losses': '144175'}, {'Date': 'Dec-2012', 'Profit/Losses': '542494'}, {'Date': 'Jan-2013', 'Profit/Losses': '359333'}, {'Date': 'Feb-2013', 'Profit/Losses': '321469'}, {'Date': 'Mar-2013', 'Profit/Losses': '67780'}, {'Date': 'Apr-2013', 'Profit/Losses': '471435'}, {'Date': 'May-2013', 'Profit/Losses': '565603'}, {'Date': 'Jun-2013', 'Profit/Losses': '872480'}, {'Date': 'Jul-2013', 'Profit/Losses': '789480'}, {'Date': 'Aug-2013', 'Profit/Losses': '999942'}, {'Date': 'Sep-2013', 'Profit/Losses': '-1196225'}, {'Date': 'Oct-2013', 'Profit/Losses': '268997'}, {'Date': 'Nov-2013', 'Profit/Losses': '-687986'}, {'Date': 'Dec-2013', 'Profit/Losses': '1150461'}, {'Date': 'Jan-2014', 'Profit/Losses': '682458'}, {'Date': 'Feb-2014', 'Profit/Losses': '617856'}, {'Date': 'Mar-2014', 'Profit/Losses': '824098'}, {'Date': 'Apr-2014', 'Profit/Losses': '581943'}, {'Date': 'May-2014', 'Profit/Losses': '132864'}, {'Date': 'Jun-2014', 'Profit/Losses': '448062'}, {'Date': 'Jul-2014', 'Profit/Losses': '689161'}, {'Date': 'Aug-2014', 'Profit/Losses': '800701'}, {'Date': 'Sep-2014', 'Profit/Losses': '1166643'}, {'Date': 'Oct-2014', 'Profit/Losses': '947333'}, {'Date': 'Nov-2014', 'Profit/Losses': '578668'}, {'Date': 'Dec-2014', 'Profit/Losses': '988505'}, {'Date': 'Jan-2015', 'Profit/Losses': '1139715'}, {'Date': 'Feb-2015', 'Profit/Losses': '1029471'}, {'Date': 'Mar-2015', 'Profit/Losses': '687533'}, {'Date': 'Apr-2015', 'Profit/Losses': '-524626'}, {'Date': 'May-2015', 'Profit/Losses': '158620'}, {'Date': 'Jun-2015', 'Profit/Losses': '87795'}, {'Date': 'Jul-2015', 'Profit/Losses': '423389'}, {'Date': 'Aug-2015', 'Profit/Losses': '840723'}, {'Date': 'Sep-2015', 'Profit/Losses': '568529'}, {'Date': 'Oct-2015', 'Profit/Losses': '332067'}, {'Date': 'Nov-2015', 'Profit/Losses': '989499'}, {'Date': 'Dec-2015', 'Profit/Losses': '778237'}, {'Date': 'Jan-2016', 'Profit/Losses': '650000'}, {'Date': 'Feb-2016', 'Profit/Losses': '-1100387'}, {'Date': 'Mar-2016', 'Profit/Losses': '-174946'}, {'Date': 'Apr-2016', 'Profit/Losses': '757143'}, {'Date': 'May-2016', 'Profit/Losses': '445709'}, {'Date': 'Jun-2016', 'Profit/Losses': '712961'}, {'Date': 'Jul-2016', 'Profit/Losses': '-1163797'}, {'Date': 'Aug-2016', 'Profit/Losses': '569899'}, {'Date': 'Sep-2016', 'Profit/Losses': '768450'}, {'Date': 'Oct-2016', 'Profit/Losses': '102685'}, {'Date': 'Nov-2016', 'Profit/Losses': '795914'}, {'Date': 'Dec-2016', 'Profit/Losses': '60988'}, {'Date': 'Jan-2017', 'Profit/Losses': '138230'}, {'Date': 'Feb-2017', 'Profit/Losses': '671099'}]\n"
     ]
    }
   ],
   "source": [
    "import os # for file path\n",
    "import csv # for reading csv file\n",
    "\n",
    "current_dir = os.getcwd() # get current working dir\n",
    "print(current_dir)\n",
    "\n",
    "path_budget_data = os.path.join(current_dir, \"Resources\", \"budget_data.csv\") # get the csv file path\n",
    "print(path_budget_data)\n",
    "\n",
    "\n",
    "\n",
    "def read_csv_file(file_path):\n",
    "    \"\"\"\n",
    "    Reads a CSV file and returns the data as a list of dictionaries.\n",
    "    Each dictionary represents a row, with column names as keys and corresponding values.\n",
    "    Args:\n",
    "        file_path (str): The path to the CSV file.\n",
    "    Returns:\n",
    "        A list of dictionaries representing the CSV data.\n",
    "    \"\"\"\n",
    "    data = []\n",
    "    with open(file_path, 'r') as file:\n",
    "        reader = csv.DictReader(file)\n",
    "        for row in reader:\n",
    "            data.append(dict(row))\n",
    "    return data\n",
    "\n",
    "data = read_csv_file(path_budget_data)\n",
    "print(data)"
   ]
  },
  {
   "cell_type": "code",
   "execution_count": null,
   "id": "aedac934-9986-40f6-8ec0-b1a18bb957c5",
   "metadata": {},
   "outputs": [],
   "source": [
    "#1 The total number of months included in the dataset\n",
    "t_count = len(data)\n",
    "print(t_count)"
   ]
  },
  {
   "cell_type": "code",
   "execution_count": 29,
   "id": "a611c6b0-a00a-4e4a-b048-8a3acb6ab974",
   "metadata": {},
   "outputs": [
    {
     "ename": "AttributeError",
     "evalue": "'list' object has no attribute 'values'",
     "output_type": "error",
     "traceback": [
      "\u001b[1;31m---------------------------------------------------------------------------\u001b[0m",
      "\u001b[1;31mAttributeError\u001b[0m                            Traceback (most recent call last)",
      "Cell \u001b[1;32mIn[29], line 7\u001b[0m\n\u001b[0;32m      4\u001b[0m     \u001b[38;5;28;01mreturn\u001b[39;00m \u001b[38;5;28msum\u001b[39m(\u001b[38;5;28mdict\u001b[39m\u001b[38;5;241m.\u001b[39mvalues())\n\u001b[0;32m      6\u001b[0m \u001b[38;5;28mdict\u001b[39m \u001b[38;5;241m=\u001b[39m ([data,{\u001b[38;5;124m'\u001b[39m\u001b[38;5;124mProfit/Losses\u001b[39m\u001b[38;5;124m'\u001b[39m}])\n\u001b[1;32m----> 7\u001b[0m \u001b[38;5;28mprint\u001b[39m(\u001b[43mreturnSum\u001b[49m\u001b[43m(\u001b[49m\u001b[38;5;28;43mdict\u001b[39;49m\u001b[43m)\u001b[49m)\n",
      "Cell \u001b[1;32mIn[29], line 4\u001b[0m, in \u001b[0;36mreturnSum\u001b[1;34m(dict)\u001b[0m\n\u001b[0;32m      3\u001b[0m \u001b[38;5;28;01mdef\u001b[39;00m \u001b[38;5;21mreturnSum\u001b[39m(\u001b[38;5;28mdict\u001b[39m):\n\u001b[1;32m----> 4\u001b[0m     \u001b[38;5;28;01mreturn\u001b[39;00m \u001b[38;5;28msum\u001b[39m(\u001b[38;5;28;43mdict\u001b[39;49m\u001b[38;5;241;43m.\u001b[39;49m\u001b[43mvalues\u001b[49m())\n",
      "\u001b[1;31mAttributeError\u001b[0m: 'list' object has no attribute 'values'"
     ]
    }
   ],
   "source": [
    "#2 The net total amount of Profit/Losses over the entire period\n",
    "\n",
    "def returnSum(dict):\n",
    "    return sum(dict.values())\n",
    " \n",
    "dict = ([data,{'Profit/Losses'}])\n",
    "print(returnSum(dict))\n",
    "\n"
   ]
  },
  {
   "cell_type": "code",
   "execution_count": null,
   "id": "4c1f29f0-623d-440f-82a9-1dd51453f569",
   "metadata": {},
   "outputs": [],
   "source": [
    "#3 The average of the changes in Profit/Losses over the entire period\n",
    "\n",
    "def changes_Profit_Losses(budget):\n",
    "    change = []\n",
    "    for i in range(1, len(budget)):\n",
    "        current_number = budget[i]\n",
    "        previous_number = budget[i-1]\n",
    "        net_change = current_number - previous_number\n",
    "        change.append(net_change)\n",
    "    return change\n",
    "\n",
    "def cal_average_changes(change):\n",
    "    average_change = (sum(change)/len(change))\n",
    "    return average_change\n",
    "\n",
    "change = changes_Profit_Losses(data['Profit/Losses'])\n",
    "average_change = cal_average_changes(change)\n",
    "\n",
    "print(average_change)\n"
   ]
  },
  {
   "cell_type": "code",
   "execution_count": 11,
   "id": "51b6d36c-2baa-4e8f-b432-6c45556ad4b7",
   "metadata": {},
   "outputs": [
    {
     "ename": "TypeError",
     "evalue": "list indices must be integers or slices, not str",
     "output_type": "error",
     "traceback": [
      "\u001b[1;31m---------------------------------------------------------------------------\u001b[0m",
      "\u001b[1;31mTypeError\u001b[0m                                 Traceback (most recent call last)",
      "Cell \u001b[1;32mIn[11], line 19\u001b[0m\n\u001b[0;32m     15\u001b[0m             temp \u001b[38;5;241m=\u001b[39m change[i]\n\u001b[0;32m     16\u001b[0m     \u001b[38;5;28;01mreturn\u001b[39;00m temp\n\u001b[1;32m---> 19\u001b[0m change \u001b[38;5;241m=\u001b[39m changes_Profit_Losses(\u001b[43mdata\u001b[49m\u001b[43m[\u001b[49m\u001b[38;5;124;43m'\u001b[39;49m\u001b[38;5;124;43mProfit/Losses\u001b[39;49m\u001b[38;5;124;43m'\u001b[39;49m\u001b[43m]\u001b[49m)\n\u001b[0;32m     20\u001b[0m temp \u001b[38;5;241m=\u001b[39m greatest_increase(change)\n\u001b[0;32m     22\u001b[0m \u001b[38;5;28mprint\u001b[39m(temp)\n",
      "\u001b[1;31mTypeError\u001b[0m: list indices must be integers or slices, not str"
     ]
    }
   ],
   "source": [
    "#4 The greatest increase in profits (date and amount) over the entire period\n",
    "def changes_Profit_Losses(budget):\n",
    "    change = []\n",
    "    for i in range(1, len(budget)):\n",
    "        current_number = budget[i]\n",
    "        previous_number = budget[i-1]\n",
    "        net_change = current_number - previous_number\n",
    "        change.append(net_change)\n",
    "    return change\n",
    "\n",
    "def greatest_increase(change):\n",
    "    temp = 0\n",
    "    for i in range(len(change)):\n",
    "        if change[i] > temp:\n",
    "            temp = change[i]\n",
    "    return temp\n",
    "\n",
    "\n",
    "change = changes_Profit_Losses(data['Profit/Losses'])\n",
    "temp = greatest_increase(change)\n",
    "\n",
    "print(temp)\n",
    "\n",
    "\n",
    "def greatest_increase_date(data):\n",
    "    date = ()\n",
    "    for i in range (len(data)):\n",
    "        if i == max(data):\n",
    "            return m_date\n",
    "\n",
    "\n",
    "greatest_increase_date = data.loc[data['Profit/Losses'] == max(data['Profit/Losses']), 'Date']\n",
    "print(greatest_increase_date)\n",
    "    "
   ]
  },
  {
   "cell_type": "code",
   "execution_count": null,
   "id": "631fa463-1650-47f4-9a1c-f9ae94af801a",
   "metadata": {},
   "outputs": [],
   "source": [
    "#5 The greatest decrease in losses (date and amount) over the entire period\n",
    "def changes_Profit_Losses(budget):\n",
    "    change = []\n",
    "    for i in range(1, len(budget)):\n",
    "        current_number = budget[i]\n",
    "        previous_number = budget[i-1]\n",
    "        net_change = current_number - previous_number\n",
    "        change.append(net_change)\n",
    "    return change\n",
    "\n",
    "def greatest_decrease(change):\n",
    "    temp = 0\n",
    "    for i in range(len(change)):\n",
    "        if change[i] < temp:\n",
    "            temp = change[i]\n",
    "    return temp\n",
    "\n",
    "\n",
    "change = changes_Profit_Losses(data['Profit/Losses'])\n",
    "temp = greatest_decrease(change)\n",
    "\n",
    "print(temp)\n",
    "\n",
    "\n",
    "greatest_decrease_date = data.loc[data[\"Profit/Losses\"] == min(data[\"Profit/Losses\"]), 'Date']\n",
    "print(greatest_decrease_date)\n"
   ]
  },
  {
   "cell_type": "code",
   "execution_count": null,
   "id": "8b489d63-00b6-4d52-80e8-e64c142e68d8",
   "metadata": {},
   "outputs": [],
   "source": []
  }
 ],
 "metadata": {
  "kernelspec": {
   "display_name": "Python 3 (ipykernel)",
   "language": "python",
   "name": "python3"
  },
  "language_info": {
   "codemirror_mode": {
    "name": "ipython",
    "version": 3
   },
   "file_extension": ".py",
   "mimetype": "text/x-python",
   "name": "python",
   "nbconvert_exporter": "python",
   "pygments_lexer": "ipython3",
   "version": "3.10.9"
  }
 },
 "nbformat": 4,
 "nbformat_minor": 5
}
